{
 "cells": [
  {
   "cell_type": "markdown",
   "id": "6022dee2",
   "metadata": {},
   "source": [
    "# Data Science Tools and Ecosystem"
   ]
  },
  {
   "cell_type": "markdown",
   "id": "c4d99caf",
   "metadata": {},
   "source": [
    "# In this notebook, Data Science Tools and Ecosystem are summarized."
   ]
  },
  {
   "cell_type": "markdown",
   "id": "f7764db7",
   "metadata": {},
   "source": [
    "# Objectives:\n",
    "* Markdowning of Cells\n",
    "* Inserting Comment\n",
    "* Libraries used in notebook\n",
    "* Arithmetic Expression"
   ]
  },
  {
   "cell_type": "markdown",
   "id": "a4bd3747",
   "metadata": {},
   "source": [
    "# Some of the popular languages that Data Scientists use are:\n",
    "#### 1. Python\n",
    "#### 2. SQL\n",
    "#### 3. R\n",
    "#### 4. Scala\n",
    "#### 5. Julia"
   ]
  },
  {
   "cell_type": "markdown",
   "id": "ea2205d4",
   "metadata": {},
   "source": [
    "# Some of the commonly used libraries used by Data Scientists include:\n",
    "#### 1. Pandas\n",
    "#### 2. Numpy\n",
    "#### 3. Tensorflow\n",
    "#### 4. Matplotlib\n"
   ]
  },
  {
   "cell_type": "markdown",
   "id": "d85a5957",
   "metadata": {},
   "source": [
    "| Data Science Tools   |\n",
    "|----------------------|\n",
    "| Jupyter Notebook     |\n",
    "| RStudio              |\n",
    "| VS Code with Python  |\n"
   ]
  },
  {
   "cell_type": "markdown",
   "id": "dc7ed59c",
   "metadata": {},
   "source": [
    "### Below are a few examples of evaluating arithmetic expressions in Python.\n",
    "#### 1. Addition : x+y\n",
    "#### 2. Subtraction : x-y\n",
    "#### 3. Multiplication : x*y\n",
    "#### 4. Division : x/y"
   ]
  },
  {
   "cell_type": "code",
   "execution_count": 5,
   "id": "dbc381e2",
   "metadata": {},
   "outputs": [
    {
     "data": {
      "text/plain": [
       "17"
      ]
     },
     "execution_count": 5,
     "metadata": {},
     "output_type": "execute_result"
    }
   ],
   "source": [
    "# This is a simple arithmetic expression to multiply then add integers.\n",
    "result = (3 * 4) + 5\n",
    "result"
   ]
  },
  {
   "cell_type": "code",
   "execution_count": 6,
   "id": "f781819d",
   "metadata": {},
   "outputs": [
    {
     "data": {
      "text/plain": [
       "3.3333333333333335"
      ]
     },
     "execution_count": 6,
     "metadata": {},
     "output_type": "execute_result"
    }
   ],
   "source": [
    "# This will convert 200 minutes to hours by dividing by 60.\n",
    "result = (200/60)\n",
    "result"
   ]
  },
  {
   "cell_type": "markdown",
   "id": "009fdff9",
   "metadata": {},
   "source": [
    "## Author\n",
    "Sanket Gavate"
   ]
  },
  {
   "cell_type": "code",
   "execution_count": null,
   "id": "f375115c",
   "metadata": {},
   "outputs": [],
   "source": []
  }
 ],
 "metadata": {
  "kernelspec": {
   "display_name": "Python 3 (ipykernel)",
   "language": "python",
   "name": "python3"
  },
  "language_info": {
   "codemirror_mode": {
    "name": "ipython",
    "version": 3
   },
   "file_extension": ".py",
   "mimetype": "text/x-python",
   "name": "python",
   "nbconvert_exporter": "python",
   "pygments_lexer": "ipython3",
   "version": "3.9.13"
  }
 },
 "nbformat": 4,
 "nbformat_minor": 5
}
